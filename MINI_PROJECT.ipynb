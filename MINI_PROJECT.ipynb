{
  "nbformat": 4,
  "nbformat_minor": 0,
  "metadata": {
    "colab": {
      "provenance": [],
      "authorship_tag": "ABX9TyMNZ7hAKpZWpW3VTO0IfFzn",
      "include_colab_link": true
    },
    "kernelspec": {
      "name": "python3",
      "display_name": "Python 3"
    },
    "language_info": {
      "name": "python"
    }
  },
  "cells": [
    {
      "cell_type": "markdown",
      "metadata": {
        "id": "view-in-github",
        "colab_type": "text"
      },
      "source": [
        "<a href=\"https://colab.research.google.com/github/abi672003/Mini-Project-SubsetSelectionProblem/blob/main/MINI_PROJECT.ipynb\" target=\"_parent\"><img src=\"https://colab.research.google.com/assets/colab-badge.svg\" alt=\"Open In Colab\"/></a>"
      ]
    },
    {
      "cell_type": "markdown",
      "source": [
        "**Subset Selection Problem**"
      ],
      "metadata": {
        "id": "bvezamLSMACd"
      }
    },
    {
      "cell_type": "markdown",
      "source": [
        "Problem Statement:\n",
        "\n",
        "Find all the subsets from a set of numbers whose sum is zero.\n",
        "Constraint: Subset size must be 5\n",
        "Set={-23, -3, -6, 7, 1, -2, 6, 3, 9, -7, -5, -8, -1, 11, -9}\n"
      ],
      "metadata": {
        "id": "FA1vOcmeNuo3"
      }
    },
    {
      "cell_type": "code",
      "execution_count": 1,
      "metadata": {
        "colab": {
          "base_uri": "https://localhost:8080/"
        },
        "id": "y_n5QHLQLKjz",
        "outputId": "b4e47a18-3fd4-40ee-d71a-950f84c7f9c4"
      },
      "outputs": [
        {
          "output_type": "stream",
          "name": "stdout",
          "text": [
            "[-23, -3, 6, 9, 11]\n",
            "[-23, 7, 1, 6, 9]\n",
            "[-23, 7, 6, -1, 11]\n",
            "[-3, -6, 7, 3, -1]\n",
            "[-3, -6, 7, 9, -7]\n",
            "[-3, -6, 7, 11, -9]\n",
            "[-3, -6, 1, 9, -1]\n",
            "[-3, -6, 6, -8, 11]\n",
            "[-3, -6, 3, -5, 11]\n",
            "[-3, 7, 1, 3, -8]\n",
            "[-3, 7, -2, 6, -8]\n",
            "[-3, 7, -2, 3, -5]\n",
            "[-3, 7, 6, -1, -9]\n",
            "[-3, 7, 9, -5, -8]\n",
            "[-3, 7, -7, -8, 11]\n",
            "[-3, 1, -2, 9, -5]\n",
            "[-3, 1, -2, -7, 11]\n",
            "[-3, 1, 6, 3, -7]\n",
            "[-3, 1, -8, -1, 11]\n",
            "[-3, -2, 3, 9, -7]\n",
            "[-3, -2, 3, 11, -9]\n",
            "[-3, -2, -5, -1, 11]\n",
            "[-3, 6, 3, -5, -1]\n",
            "[-3, 6, 9, -7, -5]\n",
            "[-3, 6, -5, 11, -9]\n",
            "[-3, 3, 9, -8, -1]\n",
            "[-3, 9, -8, 11, -9]\n",
            "[-6, 7, 1, 6, -8]\n",
            "[-6, 7, 1, 3, -5]\n",
            "[-6, 7, -2, 6, -5]\n",
            "[-6, 7, -2, 9, -8]\n",
            "[-6, 7, 9, -1, -9]\n",
            "[-6, 7, -7, -5, 11]\n",
            "[-6, 1, 3, 9, -7]\n",
            "[-6, 1, 3, 11, -9]\n",
            "[-6, 1, -5, -1, 11]\n",
            "[-6, -2, 6, 3, -1]\n",
            "[-6, -2, 6, 9, -7]\n",
            "[-6, -2, 6, 11, -9]\n",
            "[-6, 6, 9, -8, -1]\n",
            "[-6, 3, 9, -5, -1]\n",
            "[-6, 3, -7, -1, 11]\n",
            "[-6, 9, -5, 11, -9]\n",
            "[7, 1, -2, 3, -9]\n",
            "[7, 1, -2, -5, -1]\n",
            "[7, 1, 6, -5, -9]\n",
            "[7, 1, 9, -8, -9]\n",
            "[7, -2, 3, -7, -1]\n",
            "[7, -2, 9, -5, -9]\n",
            "[7, -2, -7, 11, -9]\n",
            "[7, 6, 3, -7, -9]\n",
            "[7, 6, -7, -5, -1]\n",
            "[7, 9, -7, -8, -1]\n",
            "[7, -8, -1, 11, -9]\n",
            "[1, -2, 6, 3, -8]\n",
            "[1, -2, 9, -7, -1]\n",
            "[1, -2, -1, 11, -9]\n",
            "[1, 6, 3, -1, -9]\n",
            "[1, 6, 9, -7, -9]\n",
            "[1, 3, 9, -5, -8]\n",
            "[1, 3, -7, -8, 11]\n",
            "[-2, 6, 9, -5, -8]\n",
            "[-2, 6, -7, -8, 11]\n",
            "[-2, 3, 9, -1, -9]\n",
            "[-2, 3, -7, -5, 11]\n",
            "[6, 9, -5, -1, -9]\n",
            "[6, -7, -1, 11, -9]\n",
            "[3, -5, -8, -1, 11]\n",
            "[9, -7, -5, -8, 11]\n"
          ]
        }
      ],
      "source": [
        "from itertools import combinations\n",
        "\n",
        "def find_zero_sum_subsets(numbers):\n",
        "    subsets = []\n",
        "    num_elements = 5\n",
        "\n",
        "    # Generate all possible combinations of 5 elements\n",
        "    combinations_list = list(combinations(numbers, num_elements))\n",
        "\n",
        "    # Check if the sum of each combination is zero\n",
        "    for combination in combinations_list:\n",
        "        if sum(combination) == 0:\n",
        "            subsets.append(list(combination))\n",
        "\n",
        "    return subsets\n",
        "\n",
        "# Set of numbers\n",
        "numbers = [-23, -3, -6, 7, 1, -2, 6, 3, 9, -7, -5, -8, -1, 11, -9]\n",
        "\n",
        "# Find subsets with a sum of zero\n",
        "zero_sum_subsets = find_zero_sum_subsets(numbers)\n",
        "\n",
        "# Print the subsets\n",
        "for subset in zero_sum_subsets:\n",
        "    print(subset)\n"
      ]
    }
  ]
}